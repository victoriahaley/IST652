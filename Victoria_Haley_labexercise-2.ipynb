{
 "cells": [
  {
   "cell_type": "code",
   "execution_count": 198,
   "metadata": {},
   "outputs": [
    {
     "name": "stdout",
     "output_type": "stream",
     "text": [
      "Number of teams:  30\n",
      "Line:  ['1', 'Bulls', '894659', '21820', '104.3']\n",
      "Line:  ['2', 'Cavaliers', '843042', '20562', '100']\n",
      "Line:  ['3', 'Mavericks', '825901', '20143', '104.9']\n",
      "Line:  ['4', 'Raptors', '812863', '19825', '100.1']\n",
      "Line:  ['5', 'NY', 'Knicks', '812292', '19812', '100']\n",
      "Line:  ['6', 'Heat', '809350', '19740', '100.7']\n",
      "Line:  ['7', 'Warriors', '803436', '19596', '100']\n",
      "Line:  ['8', 'Trail', 'Blazers', '794085', '19367', '99.6']\n",
      "Line:  ['9', 'Jazz', '791489', '19304', '97']\n",
      "Line:  ['10', 'Clippers', '786910', '19192', '100.7']\n",
      "Line:  ['11', 'Lakers', '778877', '18997', '99.7']\n",
      "Line:  ['12', 'Spurs', '756445', '18449', '99.3']\n",
      "Line:  ['13', 'Celtics', '749076', '18270', '98.1']\n",
      "Line:  ['14', 'Thunder', '746323', '18203', '100']\n",
      "Line:  ['15', 'Rockets', '737244', '17981', '99.7']\n",
      "Line:  ['16', 'Wizards', '725426', '17693', '87.3']\n",
      "Line:  ['17', 'Magic', '719275', '17543', '93.1']\n",
      "Line:  ['18', 'Hornets', '716894', '17485', '91.7']\n",
      "Line:  ['19', 'Kings', '707526', '17256', '99.7']\n",
      "Line:  ['20', 'Suns', '701405', '17107', '92.9']\n",
      "Line:  ['21', 'Pacers', '690733', '16847', '92.7']\n",
      "Line:  ['22', 'Hawks', '690150', '16832', '89.9']\n",
      "Line:  ['23', 'Pelicans', '688549', '16793', '97.7']\n",
      "Line:  ['24', 'Grizzlies', '684603', '16697', '92.2']\n",
      "Line:  ['25', 'Pistons', '677138', '16515', '74.8']\n",
      "Line:  ['26', 'Bucks', '621808', '15166', '81']\n",
      "Line:  ['27', 'Nets', '620142', '15125', '83.6']\n",
      "Line:  ['28', '76ers', '610121', '14881', '73.2']\n",
      "Line:  ['29', 'Timberwolves', '581178', '14175', '73.2']\n",
      "Line:  ['30', 'Nuggets', '577898', '14095', '73.6']\n"
     ]
    }
   ],
   "source": [
    "#Name of file: Victoria_Haley_labexercise-2\n",
    "#Date created: 07/20/2023\n",
    "#Created by: Victoria Haley\n",
    "#Purpose: To open a file and print its contents.\n",
    "\n",
    "NBAfile = open('./NBA-Attendance-2015.txt', 'r')\n",
    "\n",
    "\n",
    "# iterate over the lines of the file and count the number of lines\n",
    "\n",
    "count = 0\n",
    "\n",
    "NBAlist = [ ]\n",
    "\n",
    "for line in NBAfile:\n",
    "\n",
    "    # increment adds one to the count variable\n",
    "\n",
    "    count += 1\n",
    "\n",
    "    # strip the newline at the end of the line (and other white space from ends)\n",
    "\n",
    "    textline = line.strip()\n",
    "\n",
    "    # split the line on whitespace\n",
    "\n",
    "    items = textline.split()\n",
    "\n",
    "    # add the list of items to the NBAlist\n",
    "    \n",
    "    NBAlist.append(items)\n",
    "# print the number of teams read\n",
    "\n",
    "print('Number of teams: ', count)\n",
    "\n",
    "\n",
    "# print the lines from the list\n",
    "\n",
    "for line in NBAlist:\n",
    "\n",
    "    print ('Line: ', line)\n",
    "\n",
    "\n",
    "NBAfile.close()\n"
   ]
  },
  {
   "cell_type": "code",
   "execution_count": 201,
   "metadata": {},
   "outputs": [],
   "source": [
    "def get_teams(source_file):\n",
    "    team_list=[]\n",
    "    with open(source_file)as csv_file:\n",
    "        team_reader = csv.reader(csv_file, dialect='excel')\n",
    "        lines =[line for line in team_reader]\n",
    "        for line in lines:\n",
    "            team_name = line[1]\n",
    "            total_attendance = line[2]\n",
    "            avg_attendance = line[3]\n",
    "            team_capacity = line[4]\n",
    "            team_list.append([team_name, total_attendance, avg_attendance, team_capacity])\n",
    "    return team_list"
   ]
  },
  {
   "cell_type": "code",
   "execution_count": 207,
   "metadata": {},
   "outputs": [
    {
     "name": "stdout",
     "output_type": "stream",
     "text": [
      "------------------------------------------- 2015 NBA Attendance -------------------------------------------\n",
      "The overall attendance for the Bulls was 894659, average attendance was 21820, and the capacity was 104.3%\n",
      "The overall attendance for the Cavaliers was 843042, average attendance was 20562, and the capacity was 100%\n",
      "The overall attendance for the Mavericks was 825901, average attendance was 20143, and the capacity was 104.9%\n",
      "The overall attendance for the Raptors was 812863, average attendance was 19825, and the capacity was 100.1%\n",
      "The overall attendance for the NY Knicks was 812292, average attendance was 19812, and the capacity was 100%\n",
      "The overall attendance for the Heat was 809350, average attendance was 19740, and the capacity was 100.7%\n",
      "The overall attendance for the Warriors was 803436, average attendance was 19596, and the capacity was 100%\n",
      "The overall attendance for the Trail Blazers was 794085, average attendance was 19367, and the capacity was 99.6%\n",
      "The overall attendance for the Jazz was 791489, average attendance was 19304, and the capacity was 97%\n",
      "The overall attendance for the Clippers was 786910, average attendance was 19192, and the capacity was 100.7%\n",
      "The overall attendance for the Lakers was 778877, average attendance was 18997, and the capacity was 99.7%\n",
      "The overall attendance for the Spurs was 756445, average attendance was 18449, and the capacity was 99.3%\n",
      "The overall attendance for the Celtics was 749076, average attendance was 18270, and the capacity was 98.1%\n",
      "The overall attendance for the Thunder was 746323, average attendance was 18203, and the capacity was 100%\n",
      "The overall attendance for the Rockets was 737244, average attendance was 17981, and the capacity was 99.7%\n",
      "The overall attendance for the Wizards was 725426, average attendance was 17693, and the capacity was 87.3%\n",
      "The overall attendance for the Magic was 719275, average attendance was 17543, and the capacity was 93.1%\n",
      "The overall attendance for the Hornets was 716894, average attendance was 17485, and the capacity was 91.7%\n",
      "The overall attendance for the Kings was 707526, average attendance was 17256, and the capacity was 99.7%\n",
      "The overall attendance for the Suns was 701405, average attendance was 17107, and the capacity was 92.9%\n",
      "The overall attendance for the Pacers was 690733, average attendance was 16847, and the capacity was 92.7%\n",
      "The overall attendance for the Hawks was 690150, average attendance was 16832, and the capacity was 89.9%\n",
      "The overall attendance for the Pelicans was 688549, average attendance was 16793, and the capacity was 97.7%\n",
      "The overall attendance for the Grizzlies was 684603, average attendance was 16697, and the capacity was 92.2%\n",
      "The overall attendance for the Pistons was 677138, average attendance was 16515, and the capacity was 74.8%\n",
      "The overall attendance for the Bucks was 621808, average attendance was 15166, and the capacity was 81%\n",
      "The overall attendance for the Nets was 620142, average attendance was 15125, and the capacity was 83.6%\n",
      "The overall attendance for the 76ers was 610121, average attendance was 14881, and the capacity was 73.2%\n",
      "The overall attendance for the Timberwolves was 581178, average attendance was 14175, and the capacity was 73.2%\n",
      "The overall attendance for the Nuggets was 577898, average attendance was 14095, and the capacity was 73.6%\n"
     ]
    }
   ],
   "source": [
    "source_file = './NBA-Attendance-2015.csv'\n",
    "team_list = get_teams(source_file)\n",
    "\n",
    "#print team, total attendance, average attendance, and capacity in a formatted string\n",
    "print('------------------------------------------- 2015 NBA Attendance -------------------------------------------')\n",
    "for team_name, total_attendance, avg_attendance, team_capacity in team_list:\n",
    "    print(f\"The overall attendance for the {team_name} was {total_attendance}, average attendance was {avg_attendance}, and the capacity was {team_capacity}%\")\n",
    "#end region"
   ]
  }
 ],
 "metadata": {
  "kernelspec": {
   "display_name": "Python 3 (ipykernel)",
   "language": "python",
   "name": "python3"
  },
  "language_info": {
   "codemirror_mode": {
    "name": "ipython",
    "version": 3
   },
   "file_extension": ".py",
   "mimetype": "text/x-python",
   "name": "python",
   "nbconvert_exporter": "python",
   "pygments_lexer": "ipython3",
   "version": "3.10.9"
  }
 },
 "nbformat": 4,
 "nbformat_minor": 4
}
