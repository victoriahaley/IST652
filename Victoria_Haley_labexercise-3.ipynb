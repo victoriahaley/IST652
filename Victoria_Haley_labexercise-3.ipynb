{
 "cells": [
  {
   "cell_type": "code",
   "execution_count": 67,
   "id": "edd665ea",
   "metadata": {},
   "outputs": [],
   "source": [
    "#Name of file: Victoria_Haley_labexercise-3\n",
    "#Date created: 07/24/2023\n",
    "#Created by: Victoria Haley\n",
    "#Purpose of program: To create functions for dictionaries.\n",
    "\n",
    "#import numpy\n",
    "import numpy as np\n",
    "\n",
    "#define dictionaries\n",
    "stock = {\"banana\": 6, \"apple\": 0, \"orange\": 32, \"pear\": 15}\n",
    "prices = {\"banana\": 4, \"apple\": 2, \"orange\": 1.5, \"pear\": 3}"
   ]
  },
  {
   "cell_type": "code",
   "execution_count": 68,
   "id": "1b9e6b50",
   "metadata": {},
   "outputs": [
    {
     "name": "stdout",
     "output_type": "stream",
     "text": [
      "orange = 32\n"
     ]
    }
   ],
   "source": [
    "#3.a\n",
    "\n",
    "'''Show the expression that gets the value of the stock dictionary at the key ‘orange’. Print out the results.'''\n",
    "\n",
    "def get_stock(key):\n",
    "    stock.get(key)\n",
    "    print(key, '=', stock[key])\n",
    "get_stock(\"orange\")"
   ]
  },
  {
   "cell_type": "code",
   "execution_count": 69,
   "id": "acd6c761",
   "metadata": {},
   "outputs": [
    {
     "name": "stdout",
     "output_type": "stream",
     "text": [
      "stock: {'banana': 6, 'apple': 0, 'orange': 32, 'pear': 15, 'cherry': 100}\n",
      "prices: {'banana': 4, 'apple': 2, 'orange': 1.5, 'pear': 3, 'cherry': 1}\n"
     ]
    }
   ],
   "source": [
    "'''Show a statement that adds an item to the stock dictionary called ‘cherry’ with\n",
    "some integer value and that adds ‘cherry’ to the prices dictionary with a numeric value. (Or\n",
    "pick your own fruit name.) Make sure you label and print your results.'''\n",
    "\n",
    "stock.update({\"cherry\": 100})\n",
    "prices.update({\"cherry\": 1})\n",
    "print(\"stock:\",stock)\n",
    "print(\"prices:\",prices)"
   ]
  },
  {
   "cell_type": "code",
   "execution_count": 70,
   "id": "f209f7a0",
   "metadata": {},
   "outputs": [
    {
     "name": "stdout",
     "output_type": "stream",
     "text": [
      "banana = 6\n",
      "apple = 0\n",
      "orange = 32\n",
      "pear = 15\n",
      "cherry = 100\n"
     ]
    }
   ],
   "source": [
    "#3.b\n",
    "\n",
    "'''Write the code for a loop that iterates over the stock dictionary and prints each key and value'''\n",
    "def all_stock():\n",
    "    for key in stock:\n",
    "        print(key,\"=\", stock[key])\n",
    "all_stock()"
   ]
  },
  {
   "cell_type": "code",
   "execution_count": 194,
   "id": "1c0fc9ca",
   "metadata": {},
   "outputs": [
    {
     "name": "stdout",
     "output_type": "stream",
     "text": [
      "apple = 0\n",
      "banana = 6\n",
      "pear = 15\n",
      "Total grocery items in stock: 21\n"
     ]
    }
   ],
   "source": [
    "#3.c\n",
    "\n",
    "'''Suppose that we have a list: '''\n",
    "groceries = ['apple', 'banana', 'pear']\n",
    "\n",
    "'''Write the code that will sum the total number in stock of the items in the groceries list. How\n",
    "many apples + bananas + pears are there? Display the total items labeled appropriately.'''\n",
    "\n",
    "def grocery_stock(list,dict):\n",
    "    sum = 0\n",
    "    for item in groceries:\n",
    "        for key, value in stock.items():\n",
    "            if key == item:\n",
    "                print(item, '=', value)\n",
    "                sum = value + sum\n",
    "    print('Total grocery items in stock:', sum)\n",
    "\n",
    "grocery_stock(groceries, stock)"
   ]
  },
  {
   "cell_type": "code",
   "execution_count": 193,
   "id": "88ed43b4",
   "metadata": {},
   "outputs": [
    {
     "name": "stdout",
     "output_type": "stream",
     "text": [
      "Total banana in stock = 6\n",
      "Total apple in stock = 0\n",
      "Total orange in stock = 32\n",
      "Total pear in stock = 15\n",
      "Total cherry in stock = 100\n",
      "Total price of banana = $24.00\n",
      "Total price of apple = $0.00\n",
      "Total price of orange = $48.00\n",
      "Total price of pear = $45.00\n",
      "Total price of cherry = $100.00\n"
     ]
    }
   ],
   "source": [
    "#3.d\n",
    "\n",
    "'''Write the code that can print out the total value in stock of all the items. This program can iterate over\n",
    "the stock dictionary and for each item multiply the number in stock times the price of that item in the prices\n",
    "dictionary. (This can include the items for ‘cherry’ or not, as you choose.) Display the total value with\n",
    "appropriate label and formatting of the total value in dollars.'''\n",
    "\n",
    "def stock_prices():\n",
    "    for key in stock:\n",
    "        print('Total', key,\"in stock =\", stock[key])\n",
    "    for key in prices:\n",
    "        print('Total price of',key,'=', '${:,.2f}'.format(prices[key] * stock[key]))\n",
    "stock_prices()"
   ]
  }
 ],
 "metadata": {
  "kernelspec": {
   "display_name": "Python 3 (ipykernel)",
   "language": "python",
   "name": "python3"
  },
  "language_info": {
   "codemirror_mode": {
    "name": "ipython",
    "version": 3
   },
   "file_extension": ".py",
   "mimetype": "text/x-python",
   "name": "python",
   "nbconvert_exporter": "python",
   "pygments_lexer": "ipython3",
   "version": "3.10.9"
  }
 },
 "nbformat": 4,
 "nbformat_minor": 5
}
