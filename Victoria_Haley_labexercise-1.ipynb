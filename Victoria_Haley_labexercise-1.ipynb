{
 "cells": [
  {
   "cell_type": "code",
   "execution_count": 21,
   "id": "fc0ab468-13ee-4982-9aaf-121a4088e6fb",
   "metadata": {},
   "outputs": [
    {
     "name": "stdout",
     "output_type": "stream",
     "text": [
      "1 cube is 1\n",
      "2 cube is 8\n",
      "3 cube is 27\n",
      "4 cube is 64\n",
      "5 cube is 125\n",
      "6 cube is 216\n"
     ]
    }
   ],
   "source": [
    "#Name of file: VictoriaHaley_labexercise-1.ipynb\n",
    "#Date created: 07/10/2023\n",
    "#Created by: Victoria Haley\n",
    "#Purpose of Program: To print the cube of all numbers from 1 to 6.\n",
    "#\n",
    "#\n",
    "for num in range(1,7):\n",
    "    cube = num **3\n",
    "    print(num,'cube is', cube)"
   ]
  },
  {
   "cell_type": "code",
   "execution_count": null,
   "id": "a986db5a",
   "metadata": {},
   "outputs": [],
   "source": []
  }
 ],
 "metadata": {
  "kernelspec": {
   "display_name": "Python 3 (ipykernel)",
   "language": "python",
   "name": "python3"
  },
  "language_info": {
   "codemirror_mode": {
    "name": "ipython",
    "version": 3
   },
   "file_extension": ".py",
   "mimetype": "text/x-python",
   "name": "python",
   "nbconvert_exporter": "python",
   "pygments_lexer": "ipython3",
   "version": "3.10.9"
  }
 },
 "nbformat": 4,
 "nbformat_minor": 5
}
