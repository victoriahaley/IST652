{
 "cells": [
  {
   "cell_type": "code",
   "execution_count": null,
   "id": "5d9696f9",
   "metadata": {},
   "outputs": [],
   "source": [
    "#Name of file: Victoria_Haley_labexercise-4\n",
    "#Date Created: 08/07/2023\n",
    "#Created by: Victoria Haley\n",
    "#Purpose of program: To write a function to multply numbers in a list and another function that will accept\n",
    "#a string and calculates the number of upper case letters lower case letters."
   ]
  },
  {
   "cell_type": "code",
   "execution_count": 17,
   "id": "760156fb",
   "metadata": {},
   "outputs": [
    {
     "name": "stdout",
     "output_type": "stream",
     "text": [
      "list1: [1, 3, 5, 7]\n",
      "Result:  105\n",
      "\n",
      "list2: [123, 456, 789]\n",
      "Result:  44,253,432\n",
      "\n",
      "list3: [10, 20, 30, 40, 55]\n",
      "Result:  13,200,000\n",
      "\n",
      "list4: [3, 30, 1997]\n",
      "Result:  179,730\n"
     ]
    }
   ],
   "source": [
    "#Problem 1\n",
    "\n",
    "#defining function to multiply numbers in a list\n",
    "def multiply_list(listX):\n",
    "    result = 1\n",
    "    for x in listX:\n",
    "        result = result * x\n",
    "    print('Result: ', format(result,','))\n",
    "\n",
    "#creating lists\n",
    "list1 = [1,3,5,7]\n",
    "list2 = [123,456,789]\n",
    "list3 = [10,20,30,40,55]\n",
    "list4 = [3,30,1997]\n",
    "\n",
    "#running function\n",
    "print('list1:', list1)\n",
    "multiply_list(list1)\n",
    "print()\n",
    "\n",
    "print('list2:', list2)\n",
    "multiply_list(list2)\n",
    "print()\n",
    "\n",
    "print('list3:',list3)\n",
    "multiply_list(list3)\n",
    "print()\n",
    "\n",
    "print('list4:', list4)\n",
    "multiply_list(list4)"
   ]
  },
  {
   "cell_type": "code",
   "execution_count": 25,
   "id": "b0cac268",
   "metadata": {},
   "outputs": [
    {
     "name": "stdout",
     "output_type": "stream",
     "text": [
      "string1: Hello, Dr. Block\n",
      "Total characters: 16\n",
      "Lowercase count:  9\n",
      "Uppercase count:  3\n",
      "\n",
      "string2: This is Lab Exercise 4 for IST 652: Scripting for Data Analysis\n",
      "Total characters: 63\n",
      "Lowercase count:  38\n",
      "Uppercase count:  9\n",
      "\n",
      "string3: Today is Monday, August the 7th\n",
      "Total characters: 31\n",
      "Lowercase count:  21\n",
      "Uppercase count:  3\n"
     ]
    }
   ],
   "source": [
    "#Problem 2\n",
    "\n",
    "#defining function to count uppercase and lowercase letters in a string\n",
    "def case_calc(stringX):\n",
    "    lower = 0\n",
    "    upper = 0\n",
    "    u = 'ABCDEFGHIJKLMNOPQRSTUVWXYZ'\n",
    "    l = 'abcdefghijklmnopqrstuvwxyz'\n",
    "    for a in stringX:\n",
    "        if a in l:\n",
    "            lower+=1\n",
    "        elif a in u:\n",
    "            upper+=1\n",
    "    print(\"Lowercase count: \", lower)\n",
    "    print(\"Uppercase count: \", upper)\n",
    "\n",
    "#creating strings\n",
    "string1 ='Hello, Dr. Block'\n",
    "string2 = 'This is Lab Exercise 4 for IST 652: Scripting for Data Analysis'\n",
    "string3 = 'Today is Monday, August the 7th'\n",
    "\n",
    "#running function\n",
    "print('string1:', string1)\n",
    "print('Total characters:', len(string1))\n",
    "case_calc(string1)\n",
    "print()\n",
    "print('string2:', string2)\n",
    "print('Total characters:', len(string2))\n",
    "case_calc(string2)\n",
    "print()\n",
    "print('string3:', string3)\n",
    "print('Total characters:', len(string3))\n",
    "case_calc(string3)"
   ]
  }
 ],
 "metadata": {
  "kernelspec": {
   "display_name": "Python 3 (ipykernel)",
   "language": "python",
   "name": "python3"
  },
  "language_info": {
   "codemirror_mode": {
    "name": "ipython",
    "version": 3
   },
   "file_extension": ".py",
   "mimetype": "text/x-python",
   "name": "python",
   "nbconvert_exporter": "python",
   "pygments_lexer": "ipython3",
   "version": "3.10.9"
  }
 },
 "nbformat": 4,
 "nbformat_minor": 5
}
